{
 "cells": [
  {
   "cell_type": "code",
   "execution_count": 1,
   "id": "b036d913",
   "metadata": {
    "_cell_guid": "b1076dfc-b9ad-4769-8c92-a6c4dae69d19",
    "_uuid": "8f2839f25d086af736a60e9eeb907d3b93b6e0e5",
    "execution": {
     "iopub.execute_input": "2023-08-03T03:32:29.401560Z",
     "iopub.status.busy": "2023-08-03T03:32:29.401163Z",
     "iopub.status.idle": "2023-08-03T03:33:09.388827Z",
     "shell.execute_reply": "2023-08-03T03:33:09.387439Z"
    },
    "papermill": {
     "duration": 39.999383,
     "end_time": "2023-08-03T03:33:09.391625",
     "exception": false,
     "start_time": "2023-08-03T03:32:29.392242",
     "status": "completed"
    },
    "tags": []
   },
   "outputs": [
    {
     "name": "stdout",
     "output_type": "stream",
     "text": [
      "Processing /kaggle/input/monai-110/monai-1.2.0-202306081546-py3-none-any.whl\r\n",
      "Requirement already satisfied: torch>=1.9 in /opt/conda/lib/python3.10/site-packages (from monai==1.2.0) (2.0.0+cpu)\r\n",
      "Requirement already satisfied: numpy>=1.20 in /opt/conda/lib/python3.10/site-packages (from monai==1.2.0) (1.23.5)\r\n",
      "Requirement already satisfied: filelock in /opt/conda/lib/python3.10/site-packages (from torch>=1.9->monai==1.2.0) (3.12.2)\r\n",
      "Requirement already satisfied: typing-extensions in /opt/conda/lib/python3.10/site-packages (from torch>=1.9->monai==1.2.0) (4.6.3)\r\n",
      "Requirement already satisfied: sympy in /opt/conda/lib/python3.10/site-packages (from torch>=1.9->monai==1.2.0) (1.12)\r\n",
      "Requirement already satisfied: networkx in /opt/conda/lib/python3.10/site-packages (from torch>=1.9->monai==1.2.0) (3.1)\r\n",
      "Requirement already satisfied: jinja2 in /opt/conda/lib/python3.10/site-packages (from torch>=1.9->monai==1.2.0) (3.1.2)\r\n",
      "Requirement already satisfied: MarkupSafe>=2.0 in /opt/conda/lib/python3.10/site-packages (from jinja2->torch>=1.9->monai==1.2.0) (2.1.3)\r\n",
      "Requirement already satisfied: mpmath>=0.19 in /opt/conda/lib/python3.10/site-packages (from sympy->torch>=1.9->monai==1.2.0) (1.3.0)\r\n",
      "Installing collected packages: monai\r\n",
      "Successfully installed monai-1.2.0\r\n"
     ]
    },
    {
     "name": "stderr",
     "output_type": "stream",
     "text": [
      "/opt/conda/lib/python3.10/site-packages/scipy/__init__.py:146: UserWarning: A NumPy version >=1.16.5 and <1.23.0 is required for this version of SciPy (detected version 1.23.5\n",
      "  warnings.warn(f\"A NumPy version >={np_minversion} and <{np_maxversion}\"\n",
      "/opt/conda/lib/python3.10/site-packages/tensorflow_io/python/ops/__init__.py:98: UserWarning: unable to load libtensorflow_io_plugins.so: unable to open file: libtensorflow_io_plugins.so, from paths: ['/opt/conda/lib/python3.10/site-packages/tensorflow_io/python/ops/libtensorflow_io_plugins.so']\n",
      "caused by: ['/opt/conda/lib/python3.10/site-packages/tensorflow_io/python/ops/libtensorflow_io_plugins.so: undefined symbol: _ZN3tsl6StatusC1EN10tensorflow5error4CodeESt17basic_string_viewIcSt11char_traitsIcEENS_14SourceLocationE']\n",
      "  warnings.warn(f\"unable to load libtensorflow_io_plugins.so: {e}\")\n",
      "/opt/conda/lib/python3.10/site-packages/tensorflow_io/python/ops/__init__.py:104: UserWarning: file system plugins are not loaded: unable to open file: libtensorflow_io.so, from paths: ['/opt/conda/lib/python3.10/site-packages/tensorflow_io/python/ops/libtensorflow_io.so']\n",
      "caused by: ['/opt/conda/lib/python3.10/site-packages/tensorflow_io/python/ops/libtensorflow_io.so: undefined symbol: _ZTVN10tensorflow13GcsFileSystemE']\n",
      "  warnings.warn(f\"file system plugins are not loaded: {e}\")\n"
     ]
    },
    {
     "name": "stdout",
     "output_type": "stream",
     "text": [
      "1.2.0\n",
      "Install Success\n"
     ]
    }
   ],
   "source": [
    "!pip install /kaggle/input/monai-110/monai-1.2.0-202306081546-py3-none-any.whl\n",
    "try:\n",
    "    import monai\n",
    "    print(monai.__version__)\n",
    "    print(\"Install Success\")\n",
    "except:\n",
    "    print(\"Install Monai Error\")"
   ]
  },
  {
   "cell_type": "code",
   "execution_count": 2,
   "id": "6b9540dd",
   "metadata": {
    "execution": {
     "iopub.execute_input": "2023-08-03T03:33:09.410363Z",
     "iopub.status.busy": "2023-08-03T03:33:09.408835Z",
     "iopub.status.idle": "2023-08-03T03:33:09.416130Z",
     "shell.execute_reply": "2023-08-03T03:33:09.415046Z"
    },
    "papermill": {
     "duration": 0.019265,
     "end_time": "2023-08-03T03:33:09.418920",
     "exception": false,
     "start_time": "2023-08-03T03:33:09.399655",
     "status": "completed"
    },
    "tags": []
   },
   "outputs": [],
   "source": [
    "import pandas as pd\n",
    "import numpy as np\n",
    "from pathlib import Path\n",
    "import torch\n",
    "import nibabel as nib"
   ]
  },
  {
   "cell_type": "code",
   "execution_count": 3,
   "id": "4659421c",
   "metadata": {
    "execution": {
     "iopub.execute_input": "2023-08-03T03:33:09.436967Z",
     "iopub.status.busy": "2023-08-03T03:33:09.435512Z",
     "iopub.status.idle": "2023-08-03T03:33:09.489959Z",
     "shell.execute_reply": "2023-08-03T03:33:09.488695Z"
    },
    "papermill": {
     "duration": 0.06628,
     "end_time": "2023-08-03T03:33:09.492843",
     "exception": false,
     "start_time": "2023-08-03T03:33:09.426563",
     "status": "completed"
    },
    "tags": []
   },
   "outputs": [
    {
     "data": {
      "text/html": [
       "<div>\n",
       "<style scoped>\n",
       "    .dataframe tbody tr th:only-of-type {\n",
       "        vertical-align: middle;\n",
       "    }\n",
       "\n",
       "    .dataframe tbody tr th {\n",
       "        vertical-align: top;\n",
       "    }\n",
       "\n",
       "    .dataframe thead th {\n",
       "        text-align: right;\n",
       "    }\n",
       "</style>\n",
       "<table border=\"1\" class=\"dataframe\">\n",
       "  <thead>\n",
       "    <tr style=\"text-align: right;\">\n",
       "      <th></th>\n",
       "      <th>patient_id</th>\n",
       "      <th>bowel_healthy</th>\n",
       "      <th>bowel_injury</th>\n",
       "      <th>extravasation_healthy</th>\n",
       "      <th>extravasation_injury</th>\n",
       "      <th>kidney_healthy</th>\n",
       "      <th>kidney_low</th>\n",
       "      <th>kidney_high</th>\n",
       "      <th>liver_healthy</th>\n",
       "      <th>liver_low</th>\n",
       "      <th>liver_high</th>\n",
       "      <th>spleen_healthy</th>\n",
       "      <th>spleen_low</th>\n",
       "      <th>spleen_high</th>\n",
       "      <th>any_injury</th>\n",
       "    </tr>\n",
       "  </thead>\n",
       "  <tbody>\n",
       "    <tr>\n",
       "      <th>0</th>\n",
       "      <td>10004</td>\n",
       "      <td>1</td>\n",
       "      <td>0</td>\n",
       "      <td>0</td>\n",
       "      <td>1</td>\n",
       "      <td>0</td>\n",
       "      <td>1</td>\n",
       "      <td>0</td>\n",
       "      <td>1</td>\n",
       "      <td>0</td>\n",
       "      <td>0</td>\n",
       "      <td>0</td>\n",
       "      <td>0</td>\n",
       "      <td>1</td>\n",
       "      <td>1</td>\n",
       "    </tr>\n",
       "    <tr>\n",
       "      <th>1</th>\n",
       "      <td>10005</td>\n",
       "      <td>1</td>\n",
       "      <td>0</td>\n",
       "      <td>1</td>\n",
       "      <td>0</td>\n",
       "      <td>1</td>\n",
       "      <td>0</td>\n",
       "      <td>0</td>\n",
       "      <td>1</td>\n",
       "      <td>0</td>\n",
       "      <td>0</td>\n",
       "      <td>1</td>\n",
       "      <td>0</td>\n",
       "      <td>0</td>\n",
       "      <td>0</td>\n",
       "    </tr>\n",
       "    <tr>\n",
       "      <th>2</th>\n",
       "      <td>10007</td>\n",
       "      <td>1</td>\n",
       "      <td>0</td>\n",
       "      <td>1</td>\n",
       "      <td>0</td>\n",
       "      <td>1</td>\n",
       "      <td>0</td>\n",
       "      <td>0</td>\n",
       "      <td>1</td>\n",
       "      <td>0</td>\n",
       "      <td>0</td>\n",
       "      <td>1</td>\n",
       "      <td>0</td>\n",
       "      <td>0</td>\n",
       "      <td>0</td>\n",
       "    </tr>\n",
       "    <tr>\n",
       "      <th>3</th>\n",
       "      <td>10026</td>\n",
       "      <td>1</td>\n",
       "      <td>0</td>\n",
       "      <td>1</td>\n",
       "      <td>0</td>\n",
       "      <td>1</td>\n",
       "      <td>0</td>\n",
       "      <td>0</td>\n",
       "      <td>1</td>\n",
       "      <td>0</td>\n",
       "      <td>0</td>\n",
       "      <td>1</td>\n",
       "      <td>0</td>\n",
       "      <td>0</td>\n",
       "      <td>0</td>\n",
       "    </tr>\n",
       "    <tr>\n",
       "      <th>4</th>\n",
       "      <td>10051</td>\n",
       "      <td>1</td>\n",
       "      <td>0</td>\n",
       "      <td>1</td>\n",
       "      <td>0</td>\n",
       "      <td>1</td>\n",
       "      <td>0</td>\n",
       "      <td>0</td>\n",
       "      <td>1</td>\n",
       "      <td>0</td>\n",
       "      <td>0</td>\n",
       "      <td>0</td>\n",
       "      <td>1</td>\n",
       "      <td>0</td>\n",
       "      <td>1</td>\n",
       "    </tr>\n",
       "    <tr>\n",
       "      <th>...</th>\n",
       "      <td>...</td>\n",
       "      <td>...</td>\n",
       "      <td>...</td>\n",
       "      <td>...</td>\n",
       "      <td>...</td>\n",
       "      <td>...</td>\n",
       "      <td>...</td>\n",
       "      <td>...</td>\n",
       "      <td>...</td>\n",
       "      <td>...</td>\n",
       "      <td>...</td>\n",
       "      <td>...</td>\n",
       "      <td>...</td>\n",
       "      <td>...</td>\n",
       "      <td>...</td>\n",
       "    </tr>\n",
       "    <tr>\n",
       "      <th>3142</th>\n",
       "      <td>9951</td>\n",
       "      <td>1</td>\n",
       "      <td>0</td>\n",
       "      <td>1</td>\n",
       "      <td>0</td>\n",
       "      <td>1</td>\n",
       "      <td>0</td>\n",
       "      <td>0</td>\n",
       "      <td>1</td>\n",
       "      <td>0</td>\n",
       "      <td>0</td>\n",
       "      <td>1</td>\n",
       "      <td>0</td>\n",
       "      <td>0</td>\n",
       "      <td>0</td>\n",
       "    </tr>\n",
       "    <tr>\n",
       "      <th>3143</th>\n",
       "      <td>9960</td>\n",
       "      <td>1</td>\n",
       "      <td>0</td>\n",
       "      <td>1</td>\n",
       "      <td>0</td>\n",
       "      <td>1</td>\n",
       "      <td>0</td>\n",
       "      <td>0</td>\n",
       "      <td>1</td>\n",
       "      <td>0</td>\n",
       "      <td>0</td>\n",
       "      <td>1</td>\n",
       "      <td>0</td>\n",
       "      <td>0</td>\n",
       "      <td>0</td>\n",
       "    </tr>\n",
       "    <tr>\n",
       "      <th>3144</th>\n",
       "      <td>9961</td>\n",
       "      <td>1</td>\n",
       "      <td>0</td>\n",
       "      <td>1</td>\n",
       "      <td>0</td>\n",
       "      <td>1</td>\n",
       "      <td>0</td>\n",
       "      <td>0</td>\n",
       "      <td>1</td>\n",
       "      <td>0</td>\n",
       "      <td>0</td>\n",
       "      <td>1</td>\n",
       "      <td>0</td>\n",
       "      <td>0</td>\n",
       "      <td>0</td>\n",
       "    </tr>\n",
       "    <tr>\n",
       "      <th>3145</th>\n",
       "      <td>9980</td>\n",
       "      <td>1</td>\n",
       "      <td>0</td>\n",
       "      <td>1</td>\n",
       "      <td>0</td>\n",
       "      <td>1</td>\n",
       "      <td>0</td>\n",
       "      <td>0</td>\n",
       "      <td>1</td>\n",
       "      <td>0</td>\n",
       "      <td>0</td>\n",
       "      <td>0</td>\n",
       "      <td>0</td>\n",
       "      <td>1</td>\n",
       "      <td>1</td>\n",
       "    </tr>\n",
       "    <tr>\n",
       "      <th>3146</th>\n",
       "      <td>9983</td>\n",
       "      <td>1</td>\n",
       "      <td>0</td>\n",
       "      <td>1</td>\n",
       "      <td>0</td>\n",
       "      <td>1</td>\n",
       "      <td>0</td>\n",
       "      <td>0</td>\n",
       "      <td>1</td>\n",
       "      <td>0</td>\n",
       "      <td>0</td>\n",
       "      <td>0</td>\n",
       "      <td>0</td>\n",
       "      <td>1</td>\n",
       "      <td>1</td>\n",
       "    </tr>\n",
       "  </tbody>\n",
       "</table>\n",
       "<p>3147 rows × 15 columns</p>\n",
       "</div>"
      ],
      "text/plain": [
       "      patient_id  bowel_healthy  bowel_injury  extravasation_healthy  \\\n",
       "0          10004              1             0                      0   \n",
       "1          10005              1             0                      1   \n",
       "2          10007              1             0                      1   \n",
       "3          10026              1             0                      1   \n",
       "4          10051              1             0                      1   \n",
       "...          ...            ...           ...                    ...   \n",
       "3142        9951              1             0                      1   \n",
       "3143        9960              1             0                      1   \n",
       "3144        9961              1             0                      1   \n",
       "3145        9980              1             0                      1   \n",
       "3146        9983              1             0                      1   \n",
       "\n",
       "      extravasation_injury  kidney_healthy  kidney_low  kidney_high  \\\n",
       "0                        1               0           1            0   \n",
       "1                        0               1           0            0   \n",
       "2                        0               1           0            0   \n",
       "3                        0               1           0            0   \n",
       "4                        0               1           0            0   \n",
       "...                    ...             ...         ...          ...   \n",
       "3142                     0               1           0            0   \n",
       "3143                     0               1           0            0   \n",
       "3144                     0               1           0            0   \n",
       "3145                     0               1           0            0   \n",
       "3146                     0               1           0            0   \n",
       "\n",
       "      liver_healthy  liver_low  liver_high  spleen_healthy  spleen_low  \\\n",
       "0                 1          0           0               0           0   \n",
       "1                 1          0           0               1           0   \n",
       "2                 1          0           0               1           0   \n",
       "3                 1          0           0               1           0   \n",
       "4                 1          0           0               0           1   \n",
       "...             ...        ...         ...             ...         ...   \n",
       "3142              1          0           0               1           0   \n",
       "3143              1          0           0               1           0   \n",
       "3144              1          0           0               1           0   \n",
       "3145              1          0           0               0           0   \n",
       "3146              1          0           0               0           0   \n",
       "\n",
       "      spleen_high  any_injury  \n",
       "0               1           1  \n",
       "1               0           0  \n",
       "2               0           0  \n",
       "3               0           0  \n",
       "4               0           1  \n",
       "...           ...         ...  \n",
       "3142            0           0  \n",
       "3143            0           0  \n",
       "3144            0           0  \n",
       "3145            1           1  \n",
       "3146            1           1  \n",
       "\n",
       "[3147 rows x 15 columns]"
      ]
     },
     "execution_count": 3,
     "metadata": {},
     "output_type": "execute_result"
    }
   ],
   "source": [
    "df_train = pd.read_csv('/kaggle/input/rsna-2023-abdominal-trauma-detection/train.csv')\n",
    "df_train"
   ]
  },
  {
   "cell_type": "code",
   "execution_count": 4,
   "id": "61125db8",
   "metadata": {
    "execution": {
     "iopub.execute_input": "2023-08-03T03:33:09.511033Z",
     "iopub.status.busy": "2023-08-03T03:33:09.510572Z",
     "iopub.status.idle": "2023-08-03T03:33:09.542978Z",
     "shell.execute_reply": "2023-08-03T03:33:09.541864Z"
    },
    "papermill": {
     "duration": 0.045268,
     "end_time": "2023-08-03T03:33:09.546277",
     "exception": false,
     "start_time": "2023-08-03T03:33:09.501009",
     "status": "completed"
    },
    "tags": []
   },
   "outputs": [
    {
     "data": {
      "text/html": [
       "<div>\n",
       "<style scoped>\n",
       "    .dataframe tbody tr th:only-of-type {\n",
       "        vertical-align: middle;\n",
       "    }\n",
       "\n",
       "    .dataframe tbody tr th {\n",
       "        vertical-align: top;\n",
       "    }\n",
       "\n",
       "    .dataframe thead th {\n",
       "        text-align: right;\n",
       "    }\n",
       "</style>\n",
       "<table border=\"1\" class=\"dataframe\">\n",
       "  <thead>\n",
       "    <tr style=\"text-align: right;\">\n",
       "      <th></th>\n",
       "      <th>patient_id</th>\n",
       "      <th>series_id</th>\n",
       "      <th>aortic_hu</th>\n",
       "      <th>incomplete_organ</th>\n",
       "    </tr>\n",
       "  </thead>\n",
       "  <tbody>\n",
       "    <tr>\n",
       "      <th>0</th>\n",
       "      <td>10004</td>\n",
       "      <td>21057</td>\n",
       "      <td>146.00</td>\n",
       "      <td>0</td>\n",
       "    </tr>\n",
       "    <tr>\n",
       "      <th>1</th>\n",
       "      <td>10004</td>\n",
       "      <td>51033</td>\n",
       "      <td>454.75</td>\n",
       "      <td>0</td>\n",
       "    </tr>\n",
       "    <tr>\n",
       "      <th>2</th>\n",
       "      <td>10005</td>\n",
       "      <td>18667</td>\n",
       "      <td>187.00</td>\n",
       "      <td>0</td>\n",
       "    </tr>\n",
       "    <tr>\n",
       "      <th>3</th>\n",
       "      <td>10007</td>\n",
       "      <td>47578</td>\n",
       "      <td>329.00</td>\n",
       "      <td>0</td>\n",
       "    </tr>\n",
       "    <tr>\n",
       "      <th>4</th>\n",
       "      <td>10026</td>\n",
       "      <td>29700</td>\n",
       "      <td>327.00</td>\n",
       "      <td>0</td>\n",
       "    </tr>\n",
       "    <tr>\n",
       "      <th>...</th>\n",
       "      <td>...</td>\n",
       "      <td>...</td>\n",
       "      <td>...</td>\n",
       "      <td>...</td>\n",
       "    </tr>\n",
       "    <tr>\n",
       "      <th>4706</th>\n",
       "      <td>9961</td>\n",
       "      <td>2003</td>\n",
       "      <td>381.00</td>\n",
       "      <td>0</td>\n",
       "    </tr>\n",
       "    <tr>\n",
       "      <th>4707</th>\n",
       "      <td>9961</td>\n",
       "      <td>63032</td>\n",
       "      <td>143.75</td>\n",
       "      <td>0</td>\n",
       "    </tr>\n",
       "    <tr>\n",
       "      <th>4708</th>\n",
       "      <td>9980</td>\n",
       "      <td>40214</td>\n",
       "      <td>103.00</td>\n",
       "      <td>0</td>\n",
       "    </tr>\n",
       "    <tr>\n",
       "      <th>4709</th>\n",
       "      <td>9980</td>\n",
       "      <td>40466</td>\n",
       "      <td>135.00</td>\n",
       "      <td>0</td>\n",
       "    </tr>\n",
       "    <tr>\n",
       "      <th>4710</th>\n",
       "      <td>9983</td>\n",
       "      <td>10806</td>\n",
       "      <td>168.00</td>\n",
       "      <td>0</td>\n",
       "    </tr>\n",
       "  </tbody>\n",
       "</table>\n",
       "<p>4711 rows × 4 columns</p>\n",
       "</div>"
      ],
      "text/plain": [
       "      patient_id  series_id  aortic_hu  incomplete_organ\n",
       "0          10004      21057     146.00                 0\n",
       "1          10004      51033     454.75                 0\n",
       "2          10005      18667     187.00                 0\n",
       "3          10007      47578     329.00                 0\n",
       "4          10026      29700     327.00                 0\n",
       "...          ...        ...        ...               ...\n",
       "4706        9961       2003     381.00                 0\n",
       "4707        9961      63032     143.75                 0\n",
       "4708        9980      40214     103.00                 0\n",
       "4709        9980      40466     135.00                 0\n",
       "4710        9983      10806     168.00                 0\n",
       "\n",
       "[4711 rows x 4 columns]"
      ]
     },
     "execution_count": 4,
     "metadata": {},
     "output_type": "execute_result"
    }
   ],
   "source": [
    "df_train_meta = pd.read_csv('/kaggle/input/rsna-2023-abdominal-trauma-detection/train_series_meta.csv')\n",
    "df_train_meta"
   ]
  },
  {
   "cell_type": "code",
   "execution_count": 5,
   "id": "9fa47edf",
   "metadata": {
    "execution": {
     "iopub.execute_input": "2023-08-03T03:33:09.566923Z",
     "iopub.status.busy": "2023-08-03T03:33:09.566481Z",
     "iopub.status.idle": "2023-08-03T03:33:09.571383Z",
     "shell.execute_reply": "2023-08-03T03:33:09.570489Z"
    },
    "papermill": {
     "duration": 0.017112,
     "end_time": "2023-08-03T03:33:09.573706",
     "exception": false,
     "start_time": "2023-08-03T03:33:09.556594",
     "status": "completed"
    },
    "tags": []
   },
   "outputs": [],
   "source": [
    "patient_ids = np.unique(df_train['patient_id'])"
   ]
  },
  {
   "cell_type": "code",
   "execution_count": 6,
   "id": "e4fcf373",
   "metadata": {
    "execution": {
     "iopub.execute_input": "2023-08-03T03:33:09.592607Z",
     "iopub.status.busy": "2023-08-03T03:33:09.591885Z",
     "iopub.status.idle": "2023-08-03T03:33:09.596707Z",
     "shell.execute_reply": "2023-08-03T03:33:09.595851Z"
    },
    "papermill": {
     "duration": 0.017109,
     "end_time": "2023-08-03T03:33:09.599183",
     "exception": false,
     "start_time": "2023-08-03T03:33:09.582074",
     "status": "completed"
    },
    "tags": []
   },
   "outputs": [],
   "source": [
    "segmentation_root = Path('/kaggle/input/rsna-2023-abdominal-trauma-detection/segmentations')"
   ]
  },
  {
   "cell_type": "code",
   "execution_count": 7,
   "id": "6116ef7d",
   "metadata": {
    "execution": {
     "iopub.execute_input": "2023-08-03T03:33:09.618556Z",
     "iopub.status.busy": "2023-08-03T03:33:09.617869Z",
     "iopub.status.idle": "2023-08-03T03:33:09.690806Z",
     "shell.execute_reply": "2023-08-03T03:33:09.689558Z"
    },
    "papermill": {
     "duration": 0.086016,
     "end_time": "2023-08-03T03:33:09.693693",
     "exception": false,
     "start_time": "2023-08-03T03:33:09.607677",
     "status": "completed"
    },
    "tags": []
   },
   "outputs": [],
   "source": [
    "seged_series_ids = [folder.stem for folder in segmentation_root.iterdir()]"
   ]
  },
  {
   "cell_type": "code",
   "execution_count": 8,
   "id": "6e8ccc48",
   "metadata": {
    "execution": {
     "iopub.execute_input": "2023-08-03T03:33:09.712464Z",
     "iopub.status.busy": "2023-08-03T03:33:09.712016Z",
     "iopub.status.idle": "2023-08-03T03:33:09.718957Z",
     "shell.execute_reply": "2023-08-03T03:33:09.717496Z"
    },
    "papermill": {
     "duration": 0.019464,
     "end_time": "2023-08-03T03:33:09.721685",
     "exception": false,
     "start_time": "2023-08-03T03:33:09.702221",
     "status": "completed"
    },
    "tags": []
   },
   "outputs": [],
   "source": [
    "def find_patient_row_by_series_id(df, series_id):\n",
    "    patient_id = df.loc[df['series_id'] == series_id]\n",
    "    return patient_id\n",
    "\n",
    "def find_patient_id_by_series_id(df, series_id):\n",
    "    patient_id = df.loc[df['series_id'] == series_id]\n",
    "    return int(patient_id['patient_id'])\n"
   ]
  },
  {
   "cell_type": "code",
   "execution_count": 9,
   "id": "67636461",
   "metadata": {
    "execution": {
     "iopub.execute_input": "2023-08-03T03:33:09.740734Z",
     "iopub.status.busy": "2023-08-03T03:33:09.740319Z",
     "iopub.status.idle": "2023-08-03T03:33:09.822435Z",
     "shell.execute_reply": "2023-08-03T03:33:09.821326Z"
    },
    "papermill": {
     "duration": 0.095276,
     "end_time": "2023-08-03T03:33:09.825395",
     "exception": false,
     "start_time": "2023-08-03T03:33:09.730119",
     "status": "completed"
    },
    "tags": []
   },
   "outputs": [],
   "source": [
    "seged_patient_ids = [find_patient_row_by_series_id(df_train_meta, int(series)) for series in seged_series_ids]"
   ]
  },
  {
   "cell_type": "code",
   "execution_count": 10,
   "id": "6218eea4",
   "metadata": {
    "execution": {
     "iopub.execute_input": "2023-08-03T03:33:09.844629Z",
     "iopub.status.busy": "2023-08-03T03:33:09.844181Z",
     "iopub.status.idle": "2023-08-03T03:33:09.862326Z",
     "shell.execute_reply": "2023-08-03T03:33:09.861152Z"
    },
    "papermill": {
     "duration": 0.031319,
     "end_time": "2023-08-03T03:33:09.865395",
     "exception": false,
     "start_time": "2023-08-03T03:33:09.834076",
     "status": "completed"
    },
    "tags": []
   },
   "outputs": [
    {
     "data": {
      "text/plain": [
       "[      patient_id  series_id  aortic_hu  incomplete_organ\n",
       " 2976       47065      39222     366.75                 0,\n",
       "       patient_id  series_id  aortic_hu  incomplete_organ\n",
       " 2596       42008      52961      209.0                 0,\n",
       "      patient_id  series_id  aortic_hu  incomplete_organ\n",
       " 782       19410       7334       96.0                 0,\n",
       "       patient_id  series_id  aortic_hu  incomplete_organ\n",
       " 3839       57444      15415      322.0                 0,\n",
       "      patient_id  series_id  aortic_hu  incomplete_organ\n",
       " 306       13794      51141      190.0                 0]"
      ]
     },
     "execution_count": 10,
     "metadata": {},
     "output_type": "execute_result"
    }
   ],
   "source": [
    "seged_patient_ids[:5]"
   ]
  },
  {
   "cell_type": "code",
   "execution_count": 11,
   "id": "f25b0b37",
   "metadata": {
    "execution": {
     "iopub.execute_input": "2023-08-03T03:33:09.885336Z",
     "iopub.status.busy": "2023-08-03T03:33:09.884270Z",
     "iopub.status.idle": "2023-08-03T03:33:09.893273Z",
     "shell.execute_reply": "2023-08-03T03:33:09.892402Z"
    },
    "papermill": {
     "duration": 0.021563,
     "end_time": "2023-08-03T03:33:09.895786",
     "exception": false,
     "start_time": "2023-08-03T03:33:09.874223",
     "status": "completed"
    },
    "tags": []
   },
   "outputs": [],
   "source": [
    "class seg(torch.utils.data.Dataset):\n",
    "    def __init__(self, seged_patient_ids, seg_path, image_path):\n",
    "        if not isinstance(seg_path, Path):\n",
    "            seg_path = Path(seg_path)\n",
    "        if not isinstance(image_path, Path):\n",
    "            image_path = Path(image_path)\n",
    "        self.seged_patient_ids = seged_patient_ids\n",
    "        self.seg_path = seg_path\n",
    "        self.image_path = image_path\n",
    "        \n",
    "    def __len__(self,):\n",
    "        return len(seged_patient_ids)\n",
    "    \n",
    "    def __getitem__(self, idx):\n",
    "        item = self.seged_patient_ids[idx]\n",
    "        image = self.image_path / str(int(item['patient_id'])) / str(int(item['series_id']))\n",
    "        seg = self.seg_path / str(int(item['patient_id'])) / str(int(item['series_id']))\n",
    "        return image, seg"
   ]
  },
  {
   "cell_type": "code",
   "execution_count": 12,
   "id": "fb9e0f3c",
   "metadata": {
    "execution": {
     "iopub.execute_input": "2023-08-03T03:33:09.915534Z",
     "iopub.status.busy": "2023-08-03T03:33:09.915031Z",
     "iopub.status.idle": "2023-08-03T03:33:09.921189Z",
     "shell.execute_reply": "2023-08-03T03:33:09.920260Z"
    },
    "papermill": {
     "duration": 0.018741,
     "end_time": "2023-08-03T03:33:09.923598",
     "exception": false,
     "start_time": "2023-08-03T03:33:09.904857",
     "status": "completed"
    },
    "tags": []
   },
   "outputs": [],
   "source": [
    "train_ds = seg(seged_patient_ids,'/kaggle/input/rsna-2023-abdominal-trauma-detection/segmentations', '/kaggle/input/rsna-2023-abdominal-trauma-detection/train_images')"
   ]
  },
  {
   "cell_type": "code",
   "execution_count": null,
   "id": "5f4f4e78",
   "metadata": {
    "papermill": {
     "duration": 0.008502,
     "end_time": "2023-08-03T03:33:09.941107",
     "exception": false,
     "start_time": "2023-08-03T03:33:09.932605",
     "status": "completed"
    },
    "tags": []
   },
   "outputs": [],
   "source": []
  },
  {
   "cell_type": "code",
   "execution_count": 13,
   "id": "7e25d7b6",
   "metadata": {
    "execution": {
     "iopub.execute_input": "2023-08-03T03:33:09.960823Z",
     "iopub.status.busy": "2023-08-03T03:33:09.959632Z",
     "iopub.status.idle": "2023-08-03T03:33:09.966047Z",
     "shell.execute_reply": "2023-08-03T03:33:09.964954Z"
    },
    "jupyter": {
     "source_hidden": true
    },
    "papermill": {
     "duration": 0.019196,
     "end_time": "2023-08-03T03:33:09.968798",
     "exception": false,
     "start_time": "2023-08-03T03:33:09.949602",
     "status": "completed"
    },
    "tags": []
   },
   "outputs": [],
   "source": [
    "# import pydicom\n",
    "# from pathlib import Path\n",
    "# import matplotlib.pyplot as plt\n",
    "# import imageio\n",
    "\n",
    "# # 指定DICOM文件所在文件夹\n",
    "# dicom_dir = Path('/kaggle/input/rsna-2023-abdominal-trauma-detection/train_images/10004/21057')\n",
    "\n",
    "# # 获取文件夹下所有.dcm文件，并按照文件名排序\n",
    "# dicom_files = sorted(dicom_dir.glob('*.dcm'))\n",
    "\n",
    "# # 读取DICOM文件并转换为像素数组\n",
    "# images = [pydicom.dcmread(str(dicom_file)).pixel_array for dicom_file in dicom_files]\n",
    "\n",
    "# # 调整像素数组的对比度\n",
    "# images = [img.astype(float) / img.max() * 255 for img in images]\n",
    "\n",
    "# # 创建gif文件\n",
    "# imageio.mimsave('/kaggle/working/animation.gif', images, 'GIF', duration=0.1)\n",
    "\n",
    "# # 在jupyter notebook中展示gif"
   ]
  },
  {
   "cell_type": "code",
   "execution_count": 14,
   "id": "c1632084",
   "metadata": {
    "execution": {
     "iopub.execute_input": "2023-08-03T03:33:09.987696Z",
     "iopub.status.busy": "2023-08-03T03:33:09.987285Z",
     "iopub.status.idle": "2023-08-03T03:33:13.955337Z",
     "shell.execute_reply": "2023-08-03T03:33:13.954008Z"
    },
    "papermill": {
     "duration": 3.981167,
     "end_time": "2023-08-03T03:33:13.958494",
     "exception": false,
     "start_time": "2023-08-03T03:33:09.977327",
     "status": "completed"
    },
    "tags": []
   },
   "outputs": [
    {
     "name": "stdout",
     "output_type": "stream",
     "text": [
      "512 512 483\n"
     ]
    }
   ],
   "source": [
    "# 读取nii文件\n",
    "nii_file = nib.load('/kaggle/input/rsna-2023-abdominal-trauma-detection/segmentations/10000.nii')\n",
    "\n",
    "# 转换为像素数组\n",
    "nii_data = nii_file.get_fdata()\n",
    "\n",
    "# 获取像素数组的形状\n",
    "height, width, depth = nii_data.shape\n",
    "print(height, width, depth)"
   ]
  },
  {
   "cell_type": "code",
   "execution_count": 15,
   "id": "1b2b645c",
   "metadata": {
    "execution": {
     "iopub.execute_input": "2023-08-03T03:33:13.979033Z",
     "iopub.status.busy": "2023-08-03T03:33:13.978581Z",
     "iopub.status.idle": "2023-08-03T03:33:13.991131Z",
     "shell.execute_reply": "2023-08-03T03:33:13.990004Z"
    },
    "papermill": {
     "duration": 0.02552,
     "end_time": "2023-08-03T03:33:13.993808",
     "exception": false,
     "start_time": "2023-08-03T03:33:13.968288",
     "status": "completed"
    },
    "tags": []
   },
   "outputs": [
    {
     "data": {
      "text/html": [
       "<div>\n",
       "<style scoped>\n",
       "    .dataframe tbody tr th:only-of-type {\n",
       "        vertical-align: middle;\n",
       "    }\n",
       "\n",
       "    .dataframe tbody tr th {\n",
       "        vertical-align: top;\n",
       "    }\n",
       "\n",
       "    .dataframe thead th {\n",
       "        text-align: right;\n",
       "    }\n",
       "</style>\n",
       "<table border=\"1\" class=\"dataframe\">\n",
       "  <thead>\n",
       "    <tr style=\"text-align: right;\">\n",
       "      <th></th>\n",
       "      <th>patient_id</th>\n",
       "      <th>series_id</th>\n",
       "      <th>aortic_hu</th>\n",
       "      <th>incomplete_organ</th>\n",
       "    </tr>\n",
       "  </thead>\n",
       "  <tbody>\n",
       "    <tr>\n",
       "      <th>1</th>\n",
       "      <td>10004</td>\n",
       "      <td>51033</td>\n",
       "      <td>454.75</td>\n",
       "      <td>0</td>\n",
       "    </tr>\n",
       "  </tbody>\n",
       "</table>\n",
       "</div>"
      ],
      "text/plain": [
       "   patient_id  series_id  aortic_hu  incomplete_organ\n",
       "1       10004      51033     454.75                 0"
      ]
     },
     "execution_count": 15,
     "metadata": {},
     "output_type": "execute_result"
    }
   ],
   "source": [
    "find_patient_row_by_series_id(df_train_meta, 51033)"
   ]
  },
  {
   "cell_type": "code",
   "execution_count": 16,
   "id": "ebdf0693",
   "metadata": {
    "execution": {
     "iopub.execute_input": "2023-08-03T03:33:14.014524Z",
     "iopub.status.busy": "2023-08-03T03:33:14.014073Z",
     "iopub.status.idle": "2023-08-03T03:36:07.411317Z",
     "shell.execute_reply": "2023-08-03T03:36:07.409810Z"
    },
    "papermill": {
     "duration": 173.412095,
     "end_time": "2023-08-03T03:36:07.414975",
     "exception": false,
     "start_time": "2023-08-03T03:33:14.002880",
     "status": "completed"
    },
    "tags": []
   },
   "outputs": [
    {
     "name": "stdout",
     "output_type": "stream",
     "text": [
      "1044\n",
      "1044\n"
     ]
    }
   ],
   "source": [
    "import pydicom\n",
    "import nibabel as nib\n",
    "from pathlib import Path\n",
    "import matplotlib.pyplot as plt\n",
    "import imageio\n",
    "import numpy as np\n",
    "\n",
    "# 读取NIfTI文件\n",
    "nii_file = nib.load('/kaggle/input/rsna-2023-abdominal-trauma-detection/segmentations/51033.nii')\n",
    "nii_data = nii_file.get_fdata()\n",
    "# nii_data = np.flip(nii_data, axis=1)  # 翻转第一个轴\n",
    "nii_data = np.flip(nii_data, axis=2)  # 翻转第一个轴\n",
    "# nii_data = np.transpose(nii_data, (1, 0, 2))  # 交换第一个和第二个轴\n",
    "\n",
    "# 指定DICOM文件所在文件夹\n",
    "dicom_dir = Path('/kaggle/input/rsna-2023-abdominal-trauma-detection/train_images') / str(find_patient_id_by_series_id(df_train_meta, 51033)) / '51033'\n",
    "\n",
    "# 获取文件夹下所有.dcm文件，并按照文件名排序\n",
    "dicom_files = sorted(dicom_dir.glob('*.dcm'))\n",
    "print(len(dicom_files))\n",
    "print(len(sorted(dicom_dir.glob('*'))))\n",
    "# 读取DICOM文件并转换为像素数组\n",
    "dicom_images = [pydicom.dcmread(str(dicom_file)).pixel_array for dicom_file in dicom_files]\n",
    "\n",
    "# 确保NIfTI文件和DICOM文件有相同数量的切片\n",
    "assert len(dicom_images) == nii_data.shape[2], \"Mismatch in number of slices between DICOM and NIfTI files.\"\n",
    "# print(np.unique(nii_data))\n",
    "# 创建一个存储每一帧的列表\n",
    "frames = []\n",
    "\n",
    "# 对每一层进行处理\n",
    "for i in range(len(dicom_images)):\n",
    "\n",
    "    # 创建一个新的图像\n",
    "    fig, ax = plt.subplots(1,1)\n",
    "    \n",
    "    # 绘制DICOM切片\n",
    "    ax.imshow(dicom_images[i], cmap=plt.cm.bone)\n",
    "    \n",
    "    # 在DICOM切片之上绘制NIfTI切片\n",
    "    ax.imshow(nii_data[:, :, i].T, alpha=0.2)\n",
    "    \n",
    "    # 隐藏坐标轴\n",
    "    ax.axis('off')\n",
    "\n",
    "    # 将图像保存到内存中\n",
    "    fig.canvas.draw()\n",
    "    image = np.frombuffer(fig.canvas.tostring_rgb(), dtype='uint8')\n",
    "    image = image.reshape(fig.canvas.get_width_height()[::-1] + (3,))\n",
    "    \n",
    "    # 关闭图像，释放内存\n",
    "    plt.close(fig)\n",
    "    \n",
    "    # 将图像添加到帧列表中\n",
    "    frames.append(image)\n",
    "\n",
    "# 创建gif文件\n",
    "imageio.mimsave('/kaggle/working/animation_calib3.gif', frames, 'GIF', duration=0.1)\n"
   ]
  },
  {
   "cell_type": "code",
   "execution_count": 17,
   "id": "cb91bd20",
   "metadata": {
    "execution": {
     "iopub.execute_input": "2023-08-03T03:36:07.436517Z",
     "iopub.status.busy": "2023-08-03T03:36:07.435176Z",
     "iopub.status.idle": "2023-08-03T03:36:07.443343Z",
     "shell.execute_reply": "2023-08-03T03:36:07.442282Z"
    },
    "papermill": {
     "duration": 0.021045,
     "end_time": "2023-08-03T03:36:07.445886",
     "exception": false,
     "start_time": "2023-08-03T03:36:07.424841",
     "status": "completed"
    },
    "tags": []
   },
   "outputs": [
    {
     "data": {
      "text/plain": [
       "PosixPath('/kaggle/input/rsna-2023-abdominal-trauma-detection/train_images/10004/51033')"
      ]
     },
     "execution_count": 17,
     "metadata": {},
     "output_type": "execute_result"
    }
   ],
   "source": [
    "dicom_dir"
   ]
  }
 ],
 "metadata": {
  "kernelspec": {
   "display_name": "Python 3",
   "language": "python",
   "name": "python3"
  },
  "language_info": {
   "codemirror_mode": {
    "name": "ipython",
    "version": 3
   },
   "file_extension": ".py",
   "mimetype": "text/x-python",
   "name": "python",
   "nbconvert_exporter": "python",
   "pygments_lexer": "ipython3",
   "version": "3.10.12"
  },
  "papermill": {
   "default_parameters": {},
   "duration": 234.500569,
   "end_time": "2023-08-03T03:36:10.581686",
   "environment_variables": {},
   "exception": null,
   "input_path": "__notebook__.ipynb",
   "output_path": "__notebook__.ipynb",
   "parameters": {},
   "start_time": "2023-08-03T03:32:16.081117",
   "version": "2.4.0"
  }
 },
 "nbformat": 4,
 "nbformat_minor": 5
}
