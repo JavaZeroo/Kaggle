{
 "cells": [
  {
   "cell_type": "code",
   "execution_count": 66,
   "id": "4630ff66",
   "metadata": {
    "ExecuteTime": {
     "end_time": "2022-09-02T19:49:51.124643Z",
     "start_time": "2022-09-02T19:49:49.808812Z"
    }
   },
   "outputs": [
    {
     "name": "stdout",
     "output_type": "stream",
     "text": [
      "Type of the image <class 'nibabel.nifti1.Nifti1Image'>\n"
     ]
    }
   ],
   "source": [
    "import numpy as np\n",
    "import nibabel as nib\n",
    "from ipywidgets import interact, interactive, IntSlider, ToggleButtons\n",
    "import matplotlib.pyplot as plt\n",
    "%matplotlib inline\n",
    "import seaborn as sns\n",
    "sns.set_style('darkgrid')\n",
    "\n",
    "image_path = r\"E:\\Code\\Kaggle\\check\\segmentations\\vertebrae_C1.nii.gz\"\n",
    "# image_path = r\"E:\\Code\\Kaggle\\RSNA_data\\segmentations\\1.2.826.0.1.3680043.780.nii\"\n",
    "image_obj = nib.load(image_path)\n",
    "print(f'Type of the image {type(image_obj)}')\n"
   ]
  },
  {
   "cell_type": "code",
   "execution_count": 67,
   "id": "91a11911",
   "metadata": {
    "ExecuteTime": {
     "end_time": "2022-09-02T19:51:25.979996Z",
     "start_time": "2022-09-02T19:51:25.603812Z"
    }
   },
   "outputs": [
    {
     "data": {
      "text/plain": [
       "numpy.ndarray"
      ]
     },
     "execution_count": 67,
     "metadata": {},
     "output_type": "execute_result"
    }
   ],
   "source": [
    "image_data = image_obj.get_fdata()\n",
    "type(image_data)\n"
   ]
  },
  {
   "cell_type": "code",
   "execution_count": 68,
   "id": "9a54b45e",
   "metadata": {
    "ExecuteTime": {
     "end_time": "2022-09-02T19:51:30.794177Z",
     "start_time": "2022-09-02T19:51:30.775894Z"
    }
   },
   "outputs": [
    {
     "name": "stdout",
     "output_type": "stream",
     "text": [
      "The image object height: 88, width:88, depth:116\n"
     ]
    }
   ],
   "source": [
    "height, width, depth = image_data.shape\n",
    "print(f\"The image object height: {height}, width:{width}, depth:{depth}\")\n"
   ]
  },
  {
   "cell_type": "code",
   "execution_count": 69,
   "id": "671c46ee",
   "metadata": {
    "ExecuteTime": {
     "end_time": "2022-09-02T19:51:32.017266Z",
     "start_time": "2022-09-02T19:51:31.900886Z"
    }
   },
   "outputs": [
    {
     "name": "stdout",
     "output_type": "stream",
     "text": [
      "image value range: [0.0, 1.0]\n"
     ]
    }
   ],
   "source": [
    "print(f'image value range: [{image_data.min()}, {image_data.max()}]')\n"
   ]
  },
  {
   "cell_type": "code",
   "execution_count": 70,
   "id": "b0376527",
   "metadata": {
    "ExecuteTime": {
     "end_time": "2022-09-02T19:51:33.395179Z",
     "start_time": "2022-09-02T19:51:33.380930Z"
    }
   },
   "outputs": [
    {
     "name": "stdout",
     "output_type": "stream",
     "text": [
      "['sizeof_hdr', 'data_type', 'db_name', 'extents', 'session_error', 'regular', 'dim_info', 'dim', 'intent_p1', 'intent_p2', 'intent_p3', 'intent_code', 'datatype', 'bitpix', 'slice_start', 'pixdim', 'vox_offset', 'scl_slope', 'scl_inter', 'slice_end', 'slice_code', 'xyzt_units', 'cal_max', 'cal_min', 'slice_duration', 'toffset', 'glmax', 'glmin', 'descrip', 'aux_file', 'qform_code', 'sform_code', 'quatern_b', 'quatern_c', 'quatern_d', 'qoffset_x', 'qoffset_y', 'qoffset_z', 'srow_x', 'srow_y', 'srow_z', 'intent_name', 'magic']\n"
     ]
    }
   ],
   "source": [
    "print(image_obj.header.keys())\n"
   ]
  },
  {
   "cell_type": "code",
   "execution_count": 71,
   "id": "8d5c1232",
   "metadata": {
    "ExecuteTime": {
     "end_time": "2022-09-02T19:51:34.475259Z",
     "start_time": "2022-09-02T19:51:34.459411Z"
    }
   },
   "outputs": [
    {
     "name": "stdout",
     "output_type": "stream",
     "text": [
      "z轴分辨率： 1.5\n",
      "in plane 分辨率： 1.5 * 1.5\n"
     ]
    }
   ],
   "source": [
    "pixdim =  image_obj.header['pixdim']\n",
    "print(f'z轴分辨率： {pixdim[3]}')\n",
    "print(f'in plane 分辨率： {pixdim[1]} * {pixdim[2]}')\n"
   ]
  },
  {
   "cell_type": "code",
   "execution_count": 72,
   "id": "bbb7f28b",
   "metadata": {
    "ExecuteTime": {
     "end_time": "2022-09-02T19:51:35.817595Z",
     "start_time": "2022-09-02T19:51:35.809289Z"
    }
   },
   "outputs": [
    {
     "name": "stdout",
     "output_type": "stream",
     "text": [
      "132.0 132.0 174.0\n"
     ]
    }
   ],
   "source": [
    "z_range = pixdim[3] * depth\n",
    "x_range = pixdim[1] * height\n",
    "y_range = pixdim[2] * width\n",
    "print(x_range, y_range, z_range)\n"
   ]
  },
  {
   "cell_type": "code",
   "execution_count": 73,
   "id": "f221b7ef",
   "metadata": {
    "ExecuteTime": {
     "end_time": "2022-09-02T19:51:55.874711Z",
     "start_time": "2022-09-02T19:51:55.864736Z"
    }
   },
   "outputs": [
    {
     "name": "stdout",
     "output_type": "stream",
     "text": [
      "132.0 132.0 174.0\n"
     ]
    }
   ],
   "source": [
    "z_range = pixdim[3] * depth\n",
    "x_range = pixdim[1] * height\n",
    "y_range = pixdim[2] * width\n",
    "print(x_range, y_range, z_range) \n"
   ]
  },
  {
   "cell_type": "code",
   "execution_count": 74,
   "id": "75ca7aeb",
   "metadata": {
    "ExecuteTime": {
     "end_time": "2022-09-02T19:53:20.608141Z",
     "start_time": "2022-09-02T19:53:20.465016Z"
    }
   },
   "outputs": [
    {
     "name": "stdout",
     "output_type": "stream",
     "text": [
      "Plotting z Layer 51 of Image\n"
     ]
    },
    {
     "data": {
      "image/png": "[encoded data removed]",
      "text/plain": [
       "<Figure size 640x480 with 1 Axes>"
      ]
     },
     "metadata": {},
     "output_type": "display_data"
    }
   ],
   "source": [
    "maxval = 200\n",
    "i = np.random.randint(0, maxval)\n",
    "# Define a channel to look at\n",
    "print(f\"Plotting z Layer {i} of Image\")\n",
    "plt.imshow(image_data[:, :, i], cmap='gray')\n",
    "plt.axis('off');\n"
   ]
  },
  {
   "cell_type": "code",
   "execution_count": 75,
   "id": "4dd4c0cb",
   "metadata": {
    "ExecuteTime": {
     "end_time": "2022-09-02T19:56:38.813255Z",
     "start_time": "2022-09-02T19:56:38.804277Z"
    }
   },
   "outputs": [],
   "source": [
    "def explore_3dimage(layer):\n",
    "    plt.figure(figsize=(10, 5))\n",
    "    plt.imshow(image_data[:, :, layer], cmap='summer')\n",
    "    plt.title('Explore Layers of adrenal', fontsize=20)\n",
    "    plt.axis('off')\n",
    "    return layer\n",
    "\n"
   ]
  },
  {
   "cell_type": "code",
   "execution_count": 76,
   "id": "e1a4fd92",
   "metadata": {
    "ExecuteTime": {
     "end_time": "2022-09-02T19:56:40.421304Z",
     "start_time": "2022-09-02T19:56:40.244778Z"
    }
   },
   "outputs": [
    {
     "data": {
      "application/vnd.jupyter.widget-view+json": {
       "model_id": "2f3d46ef90064501b494999c4cbd6fa7",
       "version_major": 2,
       "version_minor": 0
      },
      "text/plain": [
       "interactive(children=(IntSlider(value=57, description='layer', max=115), Output()), _dom_classes=('widget-inte…"
      ]
     },
     "metadata": {},
     "output_type": "display_data"
    }
   ],
   "source": [
    "interact(explore_3dimage, layer=(0, image_data.shape[-1]-1));"
   ]
  },
  {
   "cell_type": "code",
   "execution_count": 77,
   "id": "d177dd32",
   "metadata": {},
   "outputs": [],
   "source": [
    "label_path = image_path\n",
    "label_obj = nib.load(label_path)\n",
    "label_array = label_obj.get_fdata()"
   ]
  },
  {
   "cell_type": "code",
   "execution_count": 78,
   "id": "693c2f0c",
   "metadata": {},
   "outputs": [
    {
     "name": "stdout",
     "output_type": "stream",
     "text": [
      "With the unique values: [0. 1.]\n"
     ]
    }
   ],
   "source": [
    "print(f'With the unique values: {np.unique(label_array)}')\n"
   ]
  },
  {
   "cell_type": "code",
   "execution_count": 79,
   "id": "1a72db12",
   "metadata": {},
   "outputs": [
    {
     "data": {
      "text/plain": [
       "(array([0., 1.]), array([895223,   3081], dtype=int64))"
      ]
     },
     "execution_count": 79,
     "metadata": {},
     "output_type": "execute_result"
    }
   ],
   "source": [
    "np.unique(label_array, return_counts=True)\n"
   ]
  }
 ],
 "metadata": {
  "kernelspec": {
   "display_name": "Python 3.9.13 ('kaggle')",
   "language": "python",
   "name": "python3"
  },
  "language_info": {
   "codemirror_mode": {
    "name": "ipython",
    "version": 3
   },
   "file_extension": ".py",
   "mimetype": "text/x-python",
   "name": "python",
   "nbconvert_exporter": "python",
   "pygments_lexer": "ipython3",
   "version": "3.9.13"
  },
  "vscode": {
   "interpreter": {
    "hash": "b53206568ba8440bf6a0ccf19fb373d7d64c27b5e1ad4eabac776e18dfc2f672"
   }
  }
 },
 "nbformat": 4,
 "nbformat_minor": 5
}
