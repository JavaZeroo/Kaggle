{
 "cells": [
  {
   "cell_type": "code",
   "execution_count": 1,
   "id": "9b83c4b4",
   "metadata": {
    "_cell_guid": "449f450a-3fca-4e0e-9b82-02f100311657",
    "_uuid": "72b53bef-fbe9-4c95-b6d9-11a1c6f8d0cf",
    "collapsed": false,
    "execution": {
     "iopub.execute_input": "2022-08-29T10:59:56.781210Z",
     "iopub.status.busy": "2022-08-29T10:59:56.780035Z",
     "iopub.status.idle": "2022-08-29T10:59:56.923935Z",
     "shell.execute_reply": "2022-08-29T10:59:56.922318Z"
    },
    "jupyter": {
     "outputs_hidden": false
    },
    "papermill": {
     "duration": 0.151959,
     "end_time": "2022-08-29T10:59:56.927608",
     "exception": false,
     "start_time": "2022-08-29T10:59:56.775649",
     "status": "completed"
    },
    "tags": []
   },
   "outputs": [
    {
     "name": "stdout",
     "output_type": "stream",
     "text": [
      "sample_submission.csv\n",
      "train_images\n",
      "train_bounding_boxes.csv\n",
      "segmentations\n",
      "train.csv\n",
      "test.csv\n",
      "test_images\n"
     ]
    }
   ],
   "source": [
    "# This Python 3 environment comes with many helpful analytics libraries installed\n",
    "# It is defined by the kaggle/python Docker image: https://github.com/kaggle/docker-python\n",
    "# For example, here's several helpful packages to load\n",
    "\n",
    "import numpy as np # linear algebra\n",
    "import pandas as pd # data processing, CSV file I/O (e.g. pd.read_csv)\n",
    "import pydicom\n",
    "# Input data files are available in the read-only \"../input/\" directory\n",
    "# For example, running this (by clicking run or pressing Shift+Enter) will list all files under the input directory\n",
    "ROOT = '../input/rsna-2022-cervical-spine-fracture-detection'\n",
    "import os\n",
    "filenames = os.listdir(ROOT)\n",
    "for filename in filenames:\n",
    "    print(filename)\n",
    "\n",
    "# You can write up to 20GB to the current directory (/kaggle/working/) that gets preserved as output when you create a version using \"Save & Run All\" \n",
    "# You can also write temporary files to /kaggle/temp/, but they won't be saved outside of the current session"
   ]
  }
 ],
 "metadata": {
  "kernelspec": {
   "display_name": "Python 3",
   "language": "python",
   "name": "python3"
  },
  "language_info": {
   "codemirror_mode": {
    "name": "ipython",
    "version": 3
   },
   "file_extension": ".py",
   "mimetype": "text/x-python",
   "name": "python",
   "nbconvert_exporter": "python",
   "pygments_lexer": "ipython3",
   "version": "3.7.12"
  },
  "papermill": {
   "default_parameters": {},
   "duration": 9.763264,
   "end_time": "2022-08-29T10:59:57.551917",
   "environment_variables": {},
   "exception": null,
   "input_path": "__notebook__.ipynb",
   "output_path": "__notebook__.ipynb",
   "parameters": {},
   "start_time": "2022-08-29T10:59:47.788653",
   "version": "2.3.4"
  }
 },
 "nbformat": 4,
 "nbformat_minor": 5
}
