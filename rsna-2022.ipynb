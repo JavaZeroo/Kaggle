{
 "cells": [
  {
   "cell_type": "code",
   "execution_count": 1,
   "id": "5a65ec1a",
   "metadata": {
    "_cell_guid": "449f450a-3fca-4e0e-9b82-02f100311657",
    "_uuid": "72b53bef-fbe9-4c95-b6d9-11a1c6f8d0cf",
    "collapsed": false,
    "execution": {
     "iopub.execute_input": "2022-08-29T11:08:33.525020Z",
     "iopub.status.busy": "2022-08-29T11:08:33.523425Z",
     "iopub.status.idle": "2022-08-29T11:08:33.679664Z",
     "shell.execute_reply": "2022-08-29T11:08:33.678461Z"
    },
    "jupyter": {
     "outputs_hidden": false
    },
    "papermill": {
     "duration": 0.166367,
     "end_time": "2022-08-29T11:08:33.683141",
     "exception": false,
     "start_time": "2022-08-29T11:08:33.516774",
     "status": "completed"
    },
    "tags": []
   },
   "outputs": [],
   "source": [
    "#lib import\n",
    "import numpy as np\n",
    "import pandas as pd\n",
    "import pydicom # read *.dcm\n",
    "import os\n",
    "\n",
    "ROOT = '../input/rsna-2022-cervical-spine-fracture-detection'"
   ]
  },
  {
   "cell_type": "code",
   "execution_count": 2,
   "id": "510e2ca1",
   "metadata": {
    "execution": {
     "iopub.execute_input": "2022-08-29T11:08:33.689664Z",
     "iopub.status.busy": "2022-08-29T11:08:33.689287Z",
     "iopub.status.idle": "2022-08-29T11:08:33.718748Z",
     "shell.execute_reply": "2022-08-29T11:08:33.717947Z"
    },
    "papermill": {
     "duration": 0.035496,
     "end_time": "2022-08-29T11:08:33.721696",
     "exception": false,
     "start_time": "2022-08-29T11:08:33.686200",
     "status": "completed"
    },
    "tags": []
   },
   "outputs": [
    {
     "name": "stdout",
     "output_type": "stream",
     "text": [
      "            StudyInstanceUID  patient_overall  C1  C2  C3  C4  C5  C6  C7\n",
      "0   1.2.826.0.1.3680043.6200                1   1   1   0   0   0   0   0\n",
      "1  1.2.826.0.1.3680043.27262                1   0   1   0   0   0   0   0\n",
      "2  1.2.826.0.1.3680043.21561                1   0   1   0   0   0   0   0\n",
      "3  1.2.826.0.1.3680043.12351                0   0   0   0   0   0   0   0\n",
      "4   1.2.826.0.1.3680043.1363                1   0   0   0   0   1   0   0\n"
     ]
    }
   ],
   "source": [
    "# File Read\n",
    "filenames = os.listdir(ROOT)\n",
    "\n",
    "sap_subm_dir = os.path.join(ROOT, 'sample_submission.csv')\n",
    "train_dir = os.path.join(ROOT, 'train.csv')\n",
    "test_dir = os.path.join(ROOT, 'test.csv')\n",
    "train_image_dir = os.path.join(ROOT, 'train_images')\n",
    "test_images_dir = os.path.join(ROOT, 'test_images')\n",
    "\n",
    "train = pd.read_csv(train_dir)\n",
    "print(train.head())"
   ]
  }
 ],
 "metadata": {
  "kernelspec": {
   "display_name": "Python 3",
   "language": "python",
   "name": "python3"
  },
  "language_info": {
   "codemirror_mode": {
    "name": "ipython",
    "version": 3
   },
   "file_extension": ".py",
   "mimetype": "text/x-python",
   "name": "python",
   "nbconvert_exporter": "python",
   "pygments_lexer": "ipython3",
   "version": "3.7.12"
  },
  "papermill": {
   "default_parameters": {},
   "duration": 9.711824,
   "end_time": "2022-08-29T11:08:34.344075",
   "environment_variables": {},
   "exception": null,
   "input_path": "__notebook__.ipynb",
   "output_path": "__notebook__.ipynb",
   "parameters": {},
   "start_time": "2022-08-29T11:08:24.632251",
   "version": "2.3.4"
  }
 },
 "nbformat": 4,
 "nbformat_minor": 5
}
